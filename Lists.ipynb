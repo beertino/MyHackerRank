{
 "nbformat": 4,
 "nbformat_minor": 2,
 "metadata": {
  "language_info": {
   "name": "python",
   "codemirror_mode": {
    "name": "ipython",
    "version": 3
   },
   "version": "3.7.4-final"
  },
  "orig_nbformat": 2,
  "file_extension": ".py",
  "mimetype": "text/x-python",
  "name": "python",
  "npconvert_exporter": "python",
  "pygments_lexer": "ipython3",
  "version": 3,
  "kernelspec": {
   "name": "python37464bitbasecondae802c8b5a0d74528aa1d856311a88e21",
   "display_name": "Python 3.7.4 64-bit ('base': conda)"
  }
 },
 "cells": [
  {
   "cell_type": "code",
   "execution_count": 14,
   "metadata": {},
   "outputs": [
    {
     "name": "stdout",
     "output_type": "stream",
     "text": "{'__name__': '__main__', '__doc__': 'Automatically created module for IPython interactive environment', '__package__': None, '__loader__': None, '__spec__': None, '__builtin__': <module 'builtins' (built-in)>, '__builtins__': <module 'builtins' (built-in)>, '_ih': ['', \"function_dict={\\n    'insert'    : insert,\\n    'print'     : print,\\n    'remove'    : remove,\\n    'append'    : append,\\n    'sort'      : sort,\\n    'pop'       : pop,\\n    'reverse'   : reverse\\n}\\n\\n[].function_dict['insert'](0,1)\", \"function_dict={\\n    'insert'    : insert,\\n    'print'     : print,\\n    'remove'    : remove,\\n    'append'    : append,\\n    'sort'      : sort,\\n    'pop'       : pop,\\n    'reverse'   : reverse,\\n}\\n\\n[].function_dict['insert'](0,1)\", \"function_dict={\\n    'insert'    : insert,\\n    'print'     : print,\\n    'remove'    : remove,\\n    'append'    : append,\\n    'sort'      : sort,\\n    'pop'       : pop,\\n    'reverse'   : reverse,\\n}\\n\\n[].function_dict[insert](0,1)\", \"function_dict={\\n    'print'     : print,\\n    'remove'    : remove,\\n    'append'    : append,\\n    'sort'      : sort,\\n    'pop'       : pop,\\n    'reverse'   : reverse,\\n}\\n\\n[].function_dict[insert](0,1)\", \"function_dict={\\n    'insert'    : insert(),\\n    'print'     : print(),\\n    'remove'    : remove(),\\n    'append'    : append(),\\n    'sort'      : sort(),\\n    'pop'       : pop(),\\n    'reverse'   : reverse(),\\n}\\n\\n[].function_dict[insert](0,1)\", '[].insert(0,1)', 'print([].insert(0,1))', 'a=[].insert(0,1)\\nprint(a)', 'a=[]\\na=a.insert(0,1)\\nprint(a)', 'a=[]\\na.insert(0,1)\\nprint(a)', \"function_dict={\\n    'a'         : insert(),\\n    'print'     : print(),\\n    'remove'    : remove(),\\n    'append'    : append(),\\n    'sort'      : sort(),\\n    'pop'       : pop(),\\n    'reverse'   : reverse(),\\n}\\n\\n[].function_dict[insert](0,1)\", \"globals()\\nfunction_dict={\\n    'insert'    : insert(),\\n    'print'     : print(),\\n    'remove'    : remove(),\\n    'append'    : append(),\\n    'sort'      : sort(),\\n    'pop'       : pop(),\\n    'reverse'   : reverse(),\\n}\\n\\n[].function_dict[insert](0,1)\", \"print(globals())\\nfunction_dict={\\n    'insert'    : insert(),\\n    'print'     : print(),\\n    'remove'    : remove(),\\n    'append'    : append(),\\n    'sort'      : sort(),\\n    'pop'       : pop(),\\n    'reverse'   : reverse(),\\n}\\n\\n[].function_dict[insert](0,1)\", \"print(globals())\\nfunction_dict={\\n    'insert'    : insert,\\n    'print'     : print,\\n    'remove'    : remove,\\n    'append'    : append,\\n    'sort'      : sort,\\n    'pop'       : pop,\\n    'reverse'   : reverse,\\n}\\n\\n[].function_dict[insert](0,1)\"], '_oh': {}, '_dh': ['C:\\\\Users\\\\beert\\\\AppData\\\\Local\\\\Temp\\\\c48b7dd0-c2e5-4d60-a769-e19582afaf1a', 'c:\\\\Users\\\\beert\\\\OneDrive\\\\Documents\\\\HackerRank\\\\MyHackerRankUpdated\\\\MyHackerRank'], 'In': ['', \"function_dict={\\n    'insert'    : insert,\\n    'print'     : print,\\n    'remove'    : remove,\\n    'append'    : append,\\n    'sort'      : sort,\\n    'pop'       : pop,\\n    'reverse'   : reverse\\n}\\n\\n[].function_dict['insert'](0,1)\", \"function_dict={\\n    'insert'    : insert,\\n    'print'     : print,\\n    'remove'    : remove,\\n    'append'    : append,\\n    'sort'      : sort,\\n    'pop'       : pop,\\n    'reverse'   : reverse,\\n}\\n\\n[].function_dict['insert'](0,1)\", \"function_dict={\\n    'insert'    : insert,\\n    'print'     : print,\\n    'remove'    : remove,\\n    'append'    : append,\\n    'sort'      : sort,\\n    'pop'       : pop,\\n    'reverse'   : reverse,\\n}\\n\\n[].function_dict[insert](0,1)\", \"function_dict={\\n    'print'     : print,\\n    'remove'    : remove,\\n    'append'    : append,\\n    'sort'      : sort,\\n    'pop'       : pop,\\n    'reverse'   : reverse,\\n}\\n\\n[].function_dict[insert](0,1)\", \"function_dict={\\n    'insert'    : insert(),\\n    'print'     : print(),\\n    'remove'    : remove(),\\n    'append'    : append(),\\n    'sort'      : sort(),\\n    'pop'       : pop(),\\n    'reverse'   : reverse(),\\n}\\n\\n[].function_dict[insert](0,1)\", '[].insert(0,1)', 'print([].insert(0,1))', 'a=[].insert(0,1)\\nprint(a)', 'a=[]\\na=a.insert(0,1)\\nprint(a)', 'a=[]\\na.insert(0,1)\\nprint(a)', \"function_dict={\\n    'a'         : insert(),\\n    'print'     : print(),\\n    'remove'    : remove(),\\n    'append'    : append(),\\n    'sort'      : sort(),\\n    'pop'       : pop(),\\n    'reverse'   : reverse(),\\n}\\n\\n[].function_dict[insert](0,1)\", \"globals()\\nfunction_dict={\\n    'insert'    : insert(),\\n    'print'     : print(),\\n    'remove'    : remove(),\\n    'append'    : append(),\\n    'sort'      : sort(),\\n    'pop'       : pop(),\\n    'reverse'   : reverse(),\\n}\\n\\n[].function_dict[insert](0,1)\", \"print(globals())\\nfunction_dict={\\n    'insert'    : insert(),\\n    'print'     : print(),\\n    'remove'    : remove(),\\n    'append'    : append(),\\n    'sort'      : sort(),\\n    'pop'       : pop(),\\n    'reverse'   : reverse(),\\n}\\n\\n[].function_dict[insert](0,1)\", \"print(globals())\\nfunction_dict={\\n    'insert'    : insert,\\n    'print'     : print,\\n    'remove'    : remove,\\n    'append'    : append,\\n    'sort'      : sort,\\n    'pop'       : pop,\\n    'reverse'   : reverse,\\n}\\n\\n[].function_dict[insert](0,1)\"], 'Out': {}, 'get_ipython': <bound method InteractiveShell.get_ipython of <ipykernel.zmqshell.ZMQInteractiveShell object at 0x00000295E8387588>>, 'exit': <IPython.core.autocall.ZMQExitAutocall object at 0x00000295E96AF288>, 'quit': <IPython.core.autocall.ZMQExitAutocall object at 0x00000295E96AF288>, '_': '', '__': '', '___': '', '_i': \"print(globals())\\nfunction_dict={\\n    'insert'    : insert(),\\n    'print'     : print(),\\n    'remove'    : remove(),\\n    'append'    : append(),\\n    'sort'      : sort(),\\n    'pop'       : pop(),\\n    'reverse'   : reverse(),\\n}\\n\\n[].function_dict[insert](0,1)\", '_ii': \"globals()\\nfunction_dict={\\n    'insert'    : insert(),\\n    'print'     : print(),\\n    'remove'    : remove(),\\n    'append'    : append(),\\n    'sort'      : sort(),\\n    'pop'       : pop(),\\n    'reverse'   : reverse(),\\n}\\n\\n[].function_dict[insert](0,1)\", '_iii': \"function_dict={\\n    'a'         : insert(),\\n    'print'     : print(),\\n    'remove'    : remove(),\\n    'append'    : append(),\\n    'sort'      : sort(),\\n    'pop'       : pop(),\\n    'reverse'   : reverse(),\\n}\\n\\n[].function_dict[insert](0,1)\", '_i1': \"function_dict={\\n    'insert'    : insert,\\n    'print'     : print,\\n    'remove'    : remove,\\n    'append'    : append,\\n    'sort'      : sort,\\n    'pop'       : pop,\\n    'reverse'   : reverse\\n}\\n\\n[].function_dict['insert'](0,1)\", '_i2': \"function_dict={\\n    'insert'    : insert,\\n    'print'     : print,\\n    'remove'    : remove,\\n    'append'    : append,\\n    'sort'      : sort,\\n    'pop'       : pop,\\n    'reverse'   : reverse,\\n}\\n\\n[].function_dict['insert'](0,1)\", '_i3': \"function_dict={\\n    'insert'    : insert,\\n    'print'     : print,\\n    'remove'    : remove,\\n    'append'    : append,\\n    'sort'      : sort,\\n    'pop'       : pop,\\n    'reverse'   : reverse,\\n}\\n\\n[].function_dict[insert](0,1)\", '_i4': \"function_dict={\\n    'print'     : print,\\n    'remove'    : remove,\\n    'append'    : append,\\n    'sort'      : sort,\\n    'pop'       : pop,\\n    'reverse'   : reverse,\\n}\\n\\n[].function_dict[insert](0,1)\", '_i5': \"function_dict={\\n    'insert'    : insert(),\\n    'print'     : print(),\\n    'remove'    : remove(),\\n    'append'    : append(),\\n    'sort'      : sort(),\\n    'pop'       : pop(),\\n    'reverse'   : reverse(),\\n}\\n\\n[].function_dict[insert](0,1)\", '_i6': '[].insert(0,1)', '_i7': 'print([].insert(0,1))', '_i8': 'a=[].insert(0,1)\\nprint(a)', 'a': [1], '_i9': 'a=[]\\na=a.insert(0,1)\\nprint(a)', '_i10': 'a=[]\\na.insert(0,1)\\nprint(a)', '_i11': \"function_dict={\\n    'a'         : insert(),\\n    'print'     : print(),\\n    'remove'    : remove(),\\n    'append'    : append(),\\n    'sort'      : sort(),\\n    'pop'       : pop(),\\n    'reverse'   : reverse(),\\n}\\n\\n[].function_dict[insert](0,1)\", '_i12': \"globals()\\nfunction_dict={\\n    'insert'    : insert(),\\n    'print'     : print(),\\n    'remove'    : remove(),\\n    'append'    : append(),\\n    'sort'      : sort(),\\n    'pop'       : pop(),\\n    'reverse'   : reverse(),\\n}\\n\\n[].function_dict[insert](0,1)\", '_i13': \"print(globals())\\nfunction_dict={\\n    'insert'    : insert(),\\n    'print'     : print(),\\n    'remove'    : remove(),\\n    'append'    : append(),\\n    'sort'      : sort(),\\n    'pop'       : pop(),\\n    'reverse'   : reverse(),\\n}\\n\\n[].function_dict[insert](0,1)\", '_i14': \"print(globals())\\nfunction_dict={\\n    'insert'    : insert,\\n    'print'     : print,\\n    'remove'    : remove,\\n    'append'    : append,\\n    'sort'      : sort,\\n    'pop'       : pop,\\n    'reverse'   : reverse,\\n}\\n\\n[].function_dict[insert](0,1)\"}\n"
    },
    {
     "ename": "NameError",
     "evalue": "name 'insert' is not defined",
     "output_type": "error",
     "traceback": [
      "\u001b[1;31m---------------------------------------------------------------------------\u001b[0m",
      "\u001b[1;31mNameError\u001b[0m                                 Traceback (most recent call last)",
      "\u001b[1;32m<ipython-input-14-fb3c8e237a5e>\u001b[0m in \u001b[0;36m<module>\u001b[1;34m\u001b[0m\n\u001b[0;32m      1\u001b[0m \u001b[0mprint\u001b[0m\u001b[1;33m(\u001b[0m\u001b[0mglobals\u001b[0m\u001b[1;33m(\u001b[0m\u001b[1;33m)\u001b[0m\u001b[1;33m)\u001b[0m\u001b[1;33m\u001b[0m\u001b[1;33m\u001b[0m\u001b[0m\n\u001b[0;32m      2\u001b[0m function_dict={\n\u001b[1;32m----> 3\u001b[1;33m     \u001b[1;34m'insert'\u001b[0m    \u001b[1;33m:\u001b[0m \u001b[0minsert\u001b[0m\u001b[1;33m,\u001b[0m\u001b[1;33m\u001b[0m\u001b[1;33m\u001b[0m\u001b[0m\n\u001b[0m\u001b[0;32m      4\u001b[0m     \u001b[1;34m'print'\u001b[0m     \u001b[1;33m:\u001b[0m \u001b[0mprint\u001b[0m\u001b[1;33m,\u001b[0m\u001b[1;33m\u001b[0m\u001b[1;33m\u001b[0m\u001b[0m\n\u001b[0;32m      5\u001b[0m     \u001b[1;34m'remove'\u001b[0m    \u001b[1;33m:\u001b[0m \u001b[0mremove\u001b[0m\u001b[1;33m,\u001b[0m\u001b[1;33m\u001b[0m\u001b[1;33m\u001b[0m\u001b[0m\n",
      "\u001b[1;31mNameError\u001b[0m: name 'insert' is not defined"
     ]
    }
   ],
   "source": [
    "if __name__ == '__main__':\n",
    "    N = int(input())\n",
    "    ls=[]\n",
    "    function_dict={\n",
    "        'insert'    : ls.insert,\n",
    "        'remove'    : ls.remove,\n",
    "        'append'    : ls.append,\n",
    "        'sort'      : ls.sort,\n",
    "        'pop'       : ls.pop,\n",
    "        'reverse'   : ls.reverse,\n",
    "    }\n",
    "\n",
    "    for _ in range(N):\n",
    "        #E.g By using the asterisk (*), we split 'insert 0 5' into ['insert',[0,5]] instead of  \n",
    "        #['insert','0','5']\n",
    "        todo, *arg = input().split()\n",
    "        if todo == 'print':\n",
    "            print(ls)\n",
    "        else:\n",
    "            #we put * in front of map because arg size can vary?\n",
    "            function_dict[todo](*map(int,arg))"
   ]
  },
  {
   "cell_type": "code",
   "execution_count": null,
   "metadata": {},
   "outputs": [],
   "source": []
  }
 ]
}
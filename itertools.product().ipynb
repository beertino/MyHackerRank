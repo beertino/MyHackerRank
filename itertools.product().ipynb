{
 "nbformat": 4,
 "nbformat_minor": 2,
 "metadata": {
  "language_info": {
   "name": "python",
   "codemirror_mode": {
    "name": "ipython",
    "version": 3
   },
   "version": "3.7.4-final"
  },
  "orig_nbformat": 2,
  "file_extension": ".py",
  "mimetype": "text/x-python",
  "name": "python",
  "npconvert_exporter": "python",
  "pygments_lexer": "ipython3",
  "version": 3,
  "kernelspec": {
   "name": "python37464bitbasecondae802c8b5a0d74528aa1d856311a88e21",
   "display_name": "Python 3.7.4 64-bit ('base': conda)"
  }
 },
 "cells": [
  {
   "cell_type": "code",
   "execution_count": 16,
   "metadata": {},
   "outputs": [
    {
     "name": "stdout",
     "output_type": "stream",
     "text": "(1, 3) (1, 4) (2, 3) (2, 4)\n"
    }
   ],
   "source": [
    "from itertools import product\n",
    "\n",
    "A=input('List A')\n",
    "B=input('List B')\n",
    "A=A.split()\n",
    "A=[int(x) for x in A]\n",
    "B=B.split()\n",
    "B=[int(x) for x in B]\n",
    "print(*list(product(A,B)))"
   ]
  }
 ]
}
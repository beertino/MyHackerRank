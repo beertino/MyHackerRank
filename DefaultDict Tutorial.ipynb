{
 "nbformat": 4,
 "nbformat_minor": 2,
 "metadata": {
  "language_info": {
   "name": "python",
   "codemirror_mode": {
    "name": "ipython",
    "version": 3
   },
   "version": "3.7.4-final"
  },
  "orig_nbformat": 2,
  "file_extension": ".py",
  "mimetype": "text/x-python",
  "name": "python",
  "npconvert_exporter": "python",
  "pygments_lexer": "ipython3",
  "version": 3,
  "kernelspec": {
   "name": "python3",
   "display_name": "Python 3"
  }
 },
 "cells": [
  {
   "cell_type": "code",
   "execution_count": 5,
   "metadata": {},
   "outputs": [
    {
     "name": "stdout",
     "output_type": "stream",
     "text": "1 2 4\n-1\n"
    }
   ],
   "source": [
    "from collections import defaultdict\n",
    "\n",
    "n,m = [int(x) for x in input('in').split()]\n",
    "\n",
    "d = defaultdict(list)\n",
    "\n",
    "for i in range(0,n):\n",
    "    key=input('A')\n",
    "    d[key].append(i+1)\n",
    "\n",
    "list_B=[]\n",
    "for j in range(0,m):\n",
    "    list_B.append(input('B'))\n",
    "\n",
    "for k in list_B:\n",
    "    if d[k]!=[]:\n",
    "        print(*d[k])\n",
    "    else:\n",
    "        print(-1)"
   ]
  }
 ]
}
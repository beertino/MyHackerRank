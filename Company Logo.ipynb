{
 "nbformat": 4,
 "nbformat_minor": 2,
 "metadata": {
  "language_info": {
   "name": "python",
   "codemirror_mode": {
    "name": "ipython",
    "version": 3
   },
   "version": "3.7.4-final"
  },
  "orig_nbformat": 2,
  "file_extension": ".py",
  "mimetype": "text/x-python",
  "name": "python",
  "npconvert_exporter": "python",
  "pygments_lexer": "ipython3",
  "version": 3,
  "kernelspec": {
   "name": "python37464bitbasecondae802c8b5a0d74528aa1d856311a88e21",
   "display_name": "Python 3.7.4 64-bit ('base': conda)"
  }
 },
 "cells": [
  {
   "cell_type": "code",
   "execution_count": 69,
   "metadata": {},
   "outputs": [
    {
     "name": "stdout",
     "output_type": "stream",
     "text": "[(1, ['e', 'd']), (2, ['c', 'a']), (3, ['b'])]\n[('e', 1), ('d', 1), ('c', 2), ('a', 2), ('b', 3)]\nb 3\na 2\nc 2\n"
    }
   ],
   "source": [
    "from collections import defaultdict\n",
    "\n",
    "s='aabbbccde'\n",
    "\n",
    "k=set(s)\n",
    "alphabet_count=[ (list(s).count(x),x) for x in k]\n",
    "key_=set([x[0] for x in alphabet_count])\n",
    "d=defaultdict(list)\n",
    "\n",
    "for k, v in alphabet_count:\n",
    "         d[k].append(v)\n",
    "\n",
    "d=[(x,sorted(d[x],reverse=True)) for x in d]\n",
    "d=sorted(d,key= lambda x: x[0])\n",
    "\n",
    "store=[]\n",
    "\n",
    "for x in d:\n",
    "    for y in x[1]:\n",
    "        store.append((x[0],y))\n",
    "\n",
    "store=[ (x[1],x[0]) for x in store ]\n",
    "\n",
    "for i in range(3):\n",
    "    print(*store[-i-1])"
   ]
  },
  {
   "cell_type": "code",
   "execution_count": 9,
   "metadata": {},
   "outputs": [
    {
     "name": "stdout",
     "output_type": "stream",
     "text": "Help on built-in function sorted in module builtins:\n\nsorted(iterable, /, *, key=None, reverse=False)\n    Return a new list containing all items from the iterable in ascending order.\n    \n    A custom key function can be supplied to customize the sort order, and the\n    reverse flag can be set to request the result in descending order.\n\n"
    }
   ],
   "source": [
    "help(sorted)"
   ]
  },
  {
   "cell_type": "code",
   "execution_count": null,
   "metadata": {},
   "outputs": [],
   "source": []
  }
 ]
}
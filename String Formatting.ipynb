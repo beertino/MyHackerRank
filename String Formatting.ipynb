{
 "nbformat": 4,
 "nbformat_minor": 2,
 "metadata": {
  "language_info": {
   "name": "python",
   "codemirror_mode": {
    "name": "ipython",
    "version": 3
   },
   "version": "3.7.4-final"
  },
  "orig_nbformat": 2,
  "file_extension": ".py",
  "mimetype": "text/x-python",
  "name": "python",
  "npconvert_exporter": "python",
  "pygments_lexer": "ipython3",
  "version": 3,
  "kernelspec": {
   "name": "python37464bitbasecondae802c8b5a0d74528aa1d856311a88e21",
   "display_name": "Python 3.7.4 64-bit ('base': conda)"
  }
 },
 "cells": [
  {
   "cell_type": "code",
   "execution_count": 48,
   "metadata": {},
   "outputs": [
    {
     "name": "stdout",
     "output_type": "stream",
     "text": "1      1      1      1\n     2      2      2     10\n     3      3      3     11\n     4      4      4    100\n     5      5      5    101\n     6      6      6    110\n     7      7      7    111\n     8     10      8   1000\n     9     11      9   1001\n    10     12      A   1010\n    11     13      B   1011\n    12     14      C   1100\n    13     15      D   1101\n    14     16      E   1110\n    15     17      F   1111\n    16     20     10  10000\n    17     21     11  10001\n    18     22     12  10010\n    19     23     13  10011\n    20     24     14  10100\n    21     25     15  10101\n    22     26     16  10110\n    23     27     17  10111\n    24     30     18  11000\n    25     31     19  11001\n    26     32     1A  11010\n    27     33     1B  11011\n    28     34     1C  11100\n    29     35     1D  11101\n    30     36     1E  11110\n    31     37     1F  11111\n    32     40     20 100000\n    33     41     21 100001\n    34     42     22 100010\n    35     43     23 100011\n    36     44     24 100100\n    37     45     25 100101\n    38     46     26 100110\n    39     47     27 100111\n    40     50     28 101000\n    41     51     29 101001\n    42     52     2A 101010\n    43     53     2B 101011\n    44     54     2C 101100\n    45     55     2D 101101\n    46     56     2E 101110\n    47     57     2F 101111\n    48     60     30 110000\n    49     61     31 110001\n    50     62     32 110010\n    51     63     33 110011\n    52     64     34 110100\n    53     65     35 110101\n    54     66     36 110110\n    55     67     37 110111\n    56     70     38 111000\n    57     71     39 111001\n    58     72     3A 111010\n    59     73     3B 111011\n    60     74     3C 111100\n    61     75     3D 111101\n    62     76     3E 111110\n    63     77     3F 111111\n"
    }
   ],
   "source": [
    "n=63\n",
    "max_length=len(bin(n))-1\n",
    "replace='{:>'+str(max_length)+'}'\n",
    "toJoin=[replace for i in range(0,3)]\n",
    "toJoin='{:>'+str(max_length-1)+'}'+''.join(toJoin)\n",
    "for i in range(1,n+1):\n",
    "    print(toJoin.format(str(i),str(oct(i)[2:]),str(hex(i)[2:]).upper(),str(bin(i)[2:])))"
   ]
  }
 ]
}
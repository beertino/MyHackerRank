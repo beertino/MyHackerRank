{
 "nbformat": 4,
 "nbformat_minor": 2,
 "metadata": {
  "language_info": {
   "name": "python",
   "codemirror_mode": {
    "name": "ipython",
    "version": 3
   },
   "version": "3.7.4-final"
  },
  "orig_nbformat": 2,
  "file_extension": ".py",
  "mimetype": "text/x-python",
  "name": "python",
  "npconvert_exporter": "python",
  "pygments_lexer": "ipython3",
  "version": 3,
  "kernelspec": {
   "name": "python37464bitbasecondae802c8b5a0d74528aa1d856311a88e21",
   "display_name": "Python 3.7.4 64-bit ('base': conda)"
  }
 },
 "cells": [
  {
   "cell_type": "code",
   "execution_count": 10,
   "metadata": {},
   "outputs": [
    {
     "name": "stdout",
     "output_type": "stream",
     "text": "{1: 3, 2: 4, 3: 4, 4: 2, 5: 1}\n"
    }
   ],
   "source": [
    "from collections import Counter\n",
    "\n",
    "myList = [1,1,2,3,4,5,3,2,3,4,2,1,2,3]\n",
    "print(dict(Counter(myList)))"
   ]
  },
  {
   "cell_type": "code",
   "execution_count": 35,
   "metadata": {},
   "outputs": [
    {
     "name": "stdout",
     "output_type": "stream",
     "text": "{2: 1, 3: 1, 4: 1, 5: 2, 6: 2, 8: 1, 7: 1, 18: 1}\n6 55\n55\n6 45\n100\n6 55\n4 40\n140\n18 60\n200\n10 50\n\n200\n"
    }
   ],
   "source": [
    "nShoe=int(input('No of shoe'))\n",
    "shoeList=[int(x) for x in input('List of Shoes').split()]\n",
    "shoeDict=dict(Counter(shoeList))\n",
    "print(shoeDict)\n",
    "nCustomer=int(input('No of Customer'))\n",
    "money=0\n",
    "for i in range(0,nCustomer):\n",
    "    size, price = [int(x) for x in input('Customer size').split()]\n",
    "    print(size, price)\n",
    "    try:\n",
    "        if int(shoeDict[size])>=1:\n",
    "            money=money+price\n",
    "            shoeDict[size]=shoeDict[size]-1\n",
    "            print(money)\n",
    "    except KeyError:\n",
    "        continue\n",
    "print(money)"
   ]
  },
  {
   "cell_type": "code",
   "execution_count": 9,
   "metadata": {},
   "outputs": [
    {
     "name": "stdout",
     "output_type": "stream",
     "text": "s\ni\n"
    }
   ],
   "source": [
    "s, i = 's i'.split()\n",
    "print(s)\n",
    "print(i)"
   ]
  },
  {
   "cell_type": "code",
   "execution_count": null,
   "metadata": {},
   "outputs": [],
   "source": []
  }
 ]
}
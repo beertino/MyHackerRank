{
 "nbformat": 4,
 "nbformat_minor": 2,
 "metadata": {
  "language_info": {
   "name": "python",
   "codemirror_mode": {
    "name": "ipython",
    "version": 3
   },
   "version": "3.7.4-final"
  },
  "orig_nbformat": 2,
  "file_extension": ".py",
  "mimetype": "text/x-python",
  "name": "python",
  "npconvert_exporter": "python",
  "pygments_lexer": "ipython3",
  "version": 3,
  "kernelspec": {
   "name": "python3",
   "display_name": "Python 3"
  }
 },
 "cells": [
  {
   "cell_type": "code",
   "execution_count": 13,
   "metadata": {},
   "outputs": [
    {
     "name": "stdout",
     "output_type": "stream",
     "text": "<itertools.combinations object at 0x00000169FB5A6138>\n0.8333333333333334\n"
    }
   ],
   "source": [
    "from itertools import combinations\n",
    "\n",
    "n=int(input('n'))\n",
    "word=input('word').split()\n",
    "choose=int(input('choose'))\n",
    "\n",
    "comb=combinations(word,choose)\n",
    "print(comb)\n",
    "count=0\n",
    "comb_ele=0\n",
    "\n",
    "for i in list(comb):\n",
    "    comb_ele=comb_ele+1\n",
    "    if 'a' in set(i): \n",
    "        count=count+1\n",
    "\n",
    "print(count/comb_ele)"
   ]
  },
  {
   "cell_type": "code",
   "execution_count": 5,
   "metadata": {},
   "outputs": [
    {
     "data": {
      "text/plain": "1"
     },
     "execution_count": 5,
     "metadata": {},
     "output_type": "execute_result"
    }
   ],
   "source": [
    "(1,1)[0]"
   ]
  },
  {
   "cell_type": "code",
   "execution_count": null,
   "metadata": {},
   "outputs": [],
   "source": []
  }
 ]
}
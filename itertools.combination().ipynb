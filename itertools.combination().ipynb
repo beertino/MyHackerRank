{
 "nbformat": 4,
 "nbformat_minor": 2,
 "metadata": {
  "language_info": {
   "name": "python",
   "codemirror_mode": {
    "name": "ipython",
    "version": 3
   },
   "version": "3.7.4-final"
  },
  "orig_nbformat": 2,
  "file_extension": ".py",
  "mimetype": "text/x-python",
  "name": "python",
  "npconvert_exporter": "python",
  "pygments_lexer": "ipython3",
  "version": 3,
  "kernelspec": {
   "name": "python37464bitbasecondae802c8b5a0d74528aa1d856311a88e21",
   "display_name": "Python 3.7.4 64-bit ('base': conda)"
  }
 },
 "cells": [
  {
   "cell_type": "code",
   "execution_count": 57,
   "metadata": {},
   "outputs": [
    {
     "name": "stdout",
     "output_type": "stream",
     "text": "[[('A',), ('C',), ('H',), ('K',)], [('A', 'C'), ('A', 'K'), ('C', 'K'), ('H', 'A'), ('H', 'C'), ('H', 'K')]]\nA\nC\nH\nK\nAC\nAH\nAK\nCH\nCK\nHK\n"
    }
   ],
   "source": [
    "from itertools import combinations\n",
    "\n",
    "x='HACK 2'\n",
    "x=x.split()\n",
    "x[1]=int(x[1])\n",
    "y=[list(sorted(combinations(x[0],i))) for i in range(1,x[1]+1)]\n",
    "print(y)\n",
    "dumb=[]\n",
    "for a in y:\n",
    "   a=[sorted(b) for b in a]\n",
    "   dumb.append(sorted(a))\n",
    "\n",
    "for a in dumb:\n",
    "    for b in a:\n",
    "        print(''.join(b))\n",
    "    "
   ]
  },
  {
   "cell_type": "code",
   "execution_count": 53,
   "metadata": {},
   "outputs": [
    {
     "name": "stdout",
     "output_type": "stream",
     "text": "[['A', 'C'], ['A', 'K'], ['C', 'K'], ['A', 'H'], ['C', 'H'], ['H', 'K']]\n[['A', 'C'], ['A', 'H'], ['A', 'K'], ['C', 'H'], ['C', 'K'], ['H', 'K']]\n"
    }
   ],
   "source": [
    "l=[('A', 'C'), ('A', 'K'), ('C', 'K'), ('H', 'A'), ('H', 'C'), ('H', 'K')]\n",
    "l=[sorted(x) for x in l]\n",
    "print(l)\n",
    "print(sorted(l))"
   ]
  },
  {
   "cell_type": "code",
   "execution_count": 10,
   "metadata": {},
   "outputs": [
    {
     "data": {
      "text/plain": "'A'"
     },
     "execution_count": 10,
     "metadata": {},
     "output_type": "execute_result"
    }
   ],
   "source": [
    "''.join(('A',))"
   ]
  },
  {
   "cell_type": "code",
   "execution_count": 32,
   "metadata": {},
   "outputs": [
    {
     "name": "stdout",
     "output_type": "stream",
     "text": "Help on built-in function sorted in module builtins:\n\nsorted(iterable, /, *, key=None, reverse=False)\n    Return a new list containing all items from the iterable in ascending order.\n    \n    A custom key function can be supplied to customize the sort order, and the\n    reverse flag can be set to request the result in descending order.\n\n"
    }
   ],
   "source": [
    "help(sorted)"
   ]
  },
  {
   "cell_type": "code",
   "execution_count": 33,
   "metadata": {},
   "outputs": [
    {
     "data": {
      "text/plain": "[('A', 'C'), ('A', 'K'), ('C', 'K'), ('H', 'A'), ('H', 'C'), ('H', 'K')]"
     },
     "execution_count": 33,
     "metadata": {},
     "output_type": "execute_result"
    }
   ],
   "source": [
    "sorted([('A', 'C'), ('A', 'K'), ('C', 'K'), ('H', 'A'), ('H', 'C'), ('H', 'K')])"
   ]
  },
  {
   "cell_type": "code",
   "execution_count": 34,
   "metadata": {},
   "outputs": [
    {
     "data": {
      "text/plain": "['A', 'H']"
     },
     "execution_count": 34,
     "metadata": {},
     "output_type": "execute_result"
    }
   ],
   "source": [
    "sorted(('H', 'A'))"
   ]
  },
  {
   "cell_type": "code",
   "execution_count": null,
   "metadata": {},
   "outputs": [],
   "source": []
  }
 ]
}
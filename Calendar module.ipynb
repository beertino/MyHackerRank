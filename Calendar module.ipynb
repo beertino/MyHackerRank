{
 "nbformat": 4,
 "nbformat_minor": 2,
 "metadata": {
  "language_info": {
   "name": "python",
   "codemirror_mode": {
    "name": "ipython",
    "version": 3
   },
   "version": "3.7.4-final"
  },
  "orig_nbformat": 2,
  "file_extension": ".py",
  "mimetype": "text/x-python",
  "name": "python",
  "npconvert_exporter": "python",
  "pygments_lexer": "ipython3",
  "version": 3,
  "kernelspec": {
   "name": "python37464bitbeertvirtualenv377314a94da14891ae4c988480cd1328",
   "display_name": "Python 3.7.4 64-bit ('beert': virtualenv)"
  }
 },
 "cells": [
  {
   "cell_type": "code",
   "execution_count": 18,
   "metadata": {},
   "outputs": [
    {
     "name": "stdout",
     "output_type": "stream",
     "text": "WEDNESDAY\n"
    }
   ],
   "source": [
    "import calendar\n",
    "\n",
    "x=input('lel')\n",
    "x=x.split()\n",
    "x=[int(j) for j in x]\n",
    "day_name=list(calendar.day_name)\n",
    "month, day, year = x\n",
    "print(day_name[calendar.weekday(year, month, day)].upper())"
   ]
  },
  {
   "cell_type": "code",
   "execution_count": 22,
   "metadata": {},
   "outputs": [
    {
     "name": "stdout",
     "output_type": "stream",
     "text": "1\n"
    }
   ],
   "source": [
    "0**0\n",
    "print(pow(0,0))"
   ]
  },
  {
   "cell_type": "code",
   "execution_count": null,
   "metadata": {},
   "outputs": [],
   "source": []
  }
 ]
}
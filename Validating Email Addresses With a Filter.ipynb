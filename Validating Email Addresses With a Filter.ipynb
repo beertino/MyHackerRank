{
 "nbformat": 4,
 "nbformat_minor": 2,
 "metadata": {
  "language_info": {
   "name": "python",
   "codemirror_mode": {
    "name": "ipython",
    "version": 3
   },
   "version": "3.7.4-final"
  },
  "orig_nbformat": 2,
  "file_extension": ".py",
  "mimetype": "text/x-python",
  "name": "python",
  "npconvert_exporter": "python",
  "pygments_lexer": "ipython3",
  "version": 3,
  "kernelspec": {
   "name": "python37464bitbasecondae802c8b5a0d74528aa1d856311a88e21",
   "display_name": "Python 3.7.4 64-bit ('base': conda)"
  }
 },
 "cells": [
  {
   "cell_type": "code",
   "execution_count": 44,
   "metadata": {},
   "outputs": [
    {
     "name": "stdout",
     "output_type": "stream",
     "text": "True\nTrue\nTrue\n0\nFalse\n"
    }
   ],
   "source": [
    "allowed_chars = set('0123456789abcdefghijklmnopqrstuvwxyzABCDEFGHIJKLMNOPQRSTUVWXYZ_-')\n",
    "\n",
    "def fun(s):\n",
    "    # return True if s is a valid email, else return False\n",
    "    if 0<len(s)-s.rfind('.')<=4 and s[s.rfind('@')+1:s.rfind('.')].isalnum() and set(s    [:s.rfind('@')]).issubset(allowed_chars) and set(s[:s.rfind('@')])!=set():\n",
    "        return True\n",
    "    else:\n",
    "        return False"
   ]
  }
 ]
}
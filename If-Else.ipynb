{
 "nbformat": 4,
 "nbformat_minor": 2,
 "metadata": {
  "language_info": {
   "name": "python",
   "codemirror_mode": {
    "name": "ipython",
    "version": 3
   },
   "version": "3.7.4-final"
  },
  "orig_nbformat": 2,
  "file_extension": ".py",
  "mimetype": "text/x-python",
  "name": "python",
  "npconvert_exporter": "python",
  "pygments_lexer": "ipython3",
  "version": 3,
  "kernelspec": {
   "name": "python37464bitbasecondae802c8b5a0d74528aa1d856311a88e21",
   "display_name": "Python 3.7.4 64-bit ('base': conda)"
  }
 },
 "cells": [
  {
   "cell_type": "code",
   "execution_count": 1,
   "metadata": {},
   "outputs": [
    {
     "name": "stdout",
     "output_type": "stream",
     "text": "Weird\n"
    }
   ],
   "source": [
    "#Test Value n\n",
    "n=5\n",
    "\n",
    "if n-2*(n//2) == 1:\n",
    "    print('Weird')\n",
    "else:\n",
    "    if (2<=n) and (n<=5):\n",
    "        print('Not Weird')\n",
    "    elif (6<=n) and (n<=20):\n",
    "        print('Weird')\n",
    "    else:\n",
    "        print('Not Weird')\n",
    "    "
   ]
  },
  {
   "cell_type": "code",
   "execution_count": null,
   "metadata": {},
   "outputs": [],
   "source": []
  }
 ]
}
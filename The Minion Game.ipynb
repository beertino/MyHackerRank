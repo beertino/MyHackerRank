{
 "nbformat": 4,
 "nbformat_minor": 2,
 "metadata": {
  "language_info": {
   "name": "python",
   "codemirror_mode": {
    "name": "ipython",
    "version": 3
   },
   "version": "3.7.4-final"
  },
  "orig_nbformat": 2,
  "file_extension": ".py",
  "mimetype": "text/x-python",
  "name": "python",
  "npconvert_exporter": "python",
  "pygments_lexer": "ipython3",
  "version": 3,
  "kernelspec": {
   "name": "python37464bitbasecondae802c8b5a0d74528aa1d856311a88e21",
   "display_name": "Python 3.7.4 64-bit ('base': conda)"
  }
 },
 "cells": [
  {
   "cell_type": "markdown",
   "execution_count": null,
   "metadata": {},
   "outputs": [],
   "source": [
    "The following method works but is too slow for large strings as the code first creates all the possible substrings first and then count them."
   ]
  },
  {
   "cell_type": "code",
   "execution_count": null,
   "metadata": {},
   "outputs": [],
   "source": [
    "def CountFrequency(my_list):\n",
    "    '''\n",
    "    This function takes in a LIST my_list and returns a DICTIONARY { x : n(x) } where x in an element \n",
    "    in my_list and n(x) is the number of occurence of x in the list.\n",
    "    '''\n",
    "    #Create an empty dictionary\n",
    "    freq = {}\n",
    "\n",
    "    #Assigning key, value pair \n",
    "    for items in my_list: \n",
    "        freq[items] = my_list.count(items) \n",
    "\n",
    "    return freq  \n",
    "\n",
    "\n",
    "string='BANANA'\n",
    "vowels='AIUEO'\n",
    "\n",
    "vowel_pos = [i for i, char in enumerate(string) if char in vowels]\n",
    "consonant_pos = [i for i in range(0,len(string))]\n",
    "\n",
    "for p in vowel_pos: \n",
    "    consonant_pos.remove(p)\n",
    "\n",
    "consonant_start=[string[i:i+j] for i in consonant_pos for j in range(1,len(string)+1-i)]\n",
    "vowel_start=[string[i:i+j] for i in vowel_pos for j in range(1,len(string)+1-i)]\n",
    "\n",
    "stuart=sum(list(CountFrequency(consonant_start).values()))\n",
    "kevin=sum(list(CountFrequency(vowel_start).values()))\n",
    "\n",
    "if stuart>kevin:\n",
    "    print('Stuart {}'.format(str(stuart)))\n",
    "elif kevin>stuart:\n",
    "    print('Kevin {}'.format(str(kevin)))\n",
    "else:\n",
    "    print('Draw')\n"
   ]
  },
  {
   "cell_type": "markdown",
   "execution_count": 2,
   "metadata": {},
   "outputs": [
    {
     "name": "stdout",
     "output_type": "stream",
     "text": "(0, 'a')\n(1, 's')\n(2, 'a')\n(3, 't')\n(4, 't')\n(5, 'e')\n"
    }
   ],
   "source": [
    "As mentioned on HackerRank discussion board, the trick is to realize that we are only looking at the **number of substrings** that gets generated for Stuart and Kevin which could be obtained without really looking at the substrings themselves."
   ]
  },
  {
   "cell_type": "code",
   "execution_count": 8,
   "metadata": {},
   "outputs": [
    {
     "name": "stdout",
     "output_type": "stream",
     "text": "Stuart 12\n"
    }
   ],
   "source": [
    "string='BANANA'\n",
    "vowels='AIUEO'\n",
    "\n",
    "vowel_pos = [i for i, char in enumerate(string) if char in vowels]\n",
    "consonant_pos = [i for i in range(0,len(string))]\n",
    "\n",
    "for p in vowel_pos: \n",
    "    consonant_pos.remove(p)\n",
    "\n",
    "stuart=sum([len(string)-i for i in consonant_pos])\n",
    "kevin=sum([len(string)-i for i in vowel_pos])\n",
    "\n",
    "if stuart>kevin:\n",
    "    print('Stuart {}'.format(str(stuart)))\n",
    "elif kevin>stuart:\n",
    "    print('Kevin {}'.format(str(kevin)))\n",
    "else:\n",
    "    print('Draw')"
   ]
  },
  {
   "cell_type": "markdown",
   "execution_count": null,
   "metadata": {},
   "outputs": [],
   "source": [
    "**Hiccup 2**: The code above is better but when the string is long, the list [] created before the sum could be too huge."
   ]
  },
  {
   "cell_type": "code",
   "execution_count": 9,
   "metadata": {},
   "outputs": [
    {
     "name": "stdout",
     "output_type": "stream",
     "text": "Stuart 12\n"
    }
   ],
   "source": [
    "string='BANANA'\n",
    "vowels='AIUEO'\n",
    "\n",
    "vowel_pos = [i for i, char in enumerate(string) if char in vowels]\n",
    "consonant_pos = [i for i in range(0,len(string))]\n",
    "\n",
    "for p in vowel_pos: \n",
    "    consonant_pos.remove(p)\n",
    "\n",
    "stuart=0\n",
    "for i in consonant_pos:\n",
    "    stuart=stuart+len(string)-i\n",
    "\n",
    "kevin=0\n",
    "for i in vowel_pos:\n",
    "    kevin=kevin+len(string)-i\n",
    "\n",
    "if stuart>kevin:\n",
    "    print('Stuart {}'.format(str(stuart)))\n",
    "elif kevin>stuart:\n",
    "    print('Kevin {}'.format(str(kevin)))\n",
    "else:\n",
    "    print('Draw')"
   ]
  },
  {
   "cell_type": "markdown",
   "execution_count": null,
   "metadata": {},
   "outputs": [],
   "source": [
    "**Hiccup 3** The code still gives a timeout error. Another thing to note is that there are only 2 cases here, point to Stuart if substring starts with consonant else point to Kevin if substring starts with vowel. Furthermore, instead of looping i through vowel_pos, it's actually faster to check for is string i in vowels."
   ]
  },
  {
   "cell_type": "code",
   "execution_count": 15,
   "metadata": {},
   "outputs": [
    {
     "name": "stdout",
     "output_type": "stream",
     "text": "Stuart 12\n"
    }
   ],
   "source": [
    "string='BANANA'\n",
    "vowels='AIUEO'\n",
    "\n",
    "vowel_pos = [i for i, char in enumerate(string) if char in vowels]\n",
    "\n",
    "stuart, kevin = [0,0]\n",
    "for i in range(0,len(string)): \n",
    "    if string[i] in vowels:\n",
    "        kevin=kevin+len(string)-i       \n",
    "    else:\n",
    "        stuart=stuart+len(string)-i\n",
    "\n",
    "if stuart>kevin:\n",
    "    print('Stuart {}'.format(str(stuart)))\n",
    "elif kevin>stuart:\n",
    "    print('Kevin {}'.format(str(kevin)))\n",
    "else:\n",
    "    print('Draw')"
   ]
  },
  {
   "cell_type": "code",
   "execution_count": null,
   "metadata": {},
   "outputs": [],
   "source": []
  }
 ]
}
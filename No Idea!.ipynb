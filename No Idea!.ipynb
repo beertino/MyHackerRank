{
 "nbformat": 4,
 "nbformat_minor": 2,
 "metadata": {
  "language_info": {
   "name": "python",
   "codemirror_mode": {
    "name": "ipython",
    "version": 3
   },
   "version": "3.7.4-final"
  },
  "orig_nbformat": 2,
  "file_extension": ".py",
  "mimetype": "text/x-python",
  "name": "python",
  "npconvert_exporter": "python",
  "pygments_lexer": "ipython3",
  "version": 3,
  "kernelspec": {
   "name": "python37464bitbasecondae802c8b5a0d74528aa1d856311a88e21",
   "display_name": "Python 3.7.4 64-bit ('base': conda)"
  }
 },
 "cells": [
  {
   "cell_type": "code",
   "execution_count": 12,
   "metadata": {},
   "outputs": [
    {
     "name": "stdout",
     "output_type": "stream",
     "text": "1\n"
    }
   ],
   "source": [
    "moot= input('in')\n",
    "arr=input('arr').split()\n",
    "\n",
    "A=input('a').split()\n",
    "B=input('b').split()\n",
    "B=[int(x) for x in B]\n",
    "\n",
    "arr=[ 1 if x in A else (-1 if x in B else 0) for x in arr ]\n",
    "print(sum(arr))\n",
    "\n"
   ]
  },
  {
   "cell_type": "code",
   "execution_count": 18,
   "metadata": {},
   "outputs": [
    {
     "name": "stdout",
     "output_type": "stream",
     "text": "[1, 1] [1, 0]\n"
    }
   ],
   "source": [
    "moot= input('in')\n",
    "arr=input('arr').split()\n",
    "arr=[int(x) for x in arr]\n",
    "A=input('a').split()\n",
    "A=[int(x) for x in A]\n",
    "B=input('b').split()\n",
    "B=[int(x) for x in B]\n",
    "\n",
    "plus={a:arr.count(a) for a in A}\n",
    "minus={b:arr.count(b) for b in B}\n",
    "\n",
    "print(sum([*plus.values()])-sum( [*minus.values()]))\n",
    "\n"
   ]
  },
  {
   "cell_type": "code",
   "execution_count": 21,
   "metadata": {},
   "outputs": [
    {
     "data": {
      "text/plain": "True"
     },
     "execution_count": 21,
     "metadata": {},
     "output_type": "execute_result"
    }
   ],
   "source": [
    "1 in {1,5} - 2 in {}"
   ]
  },
  {
   "cell_type": "code",
   "execution_count": 22,
   "metadata": {},
   "outputs": [
    {
     "data": {
      "text/plain": "1"
     },
     "execution_count": 22,
     "metadata": {},
     "output_type": "execute_result"
    }
   ],
   "source": [
    "0+True"
   ]
  },
  {
   "cell_type": "code",
   "execution_count": null,
   "metadata": {},
   "outputs": [],
   "source": []
  }
 ]
}
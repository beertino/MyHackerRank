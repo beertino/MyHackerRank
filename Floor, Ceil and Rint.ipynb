{
 "nbformat": 4,
 "nbformat_minor": 2,
 "metadata": {
  "language_info": {
   "name": "python",
   "codemirror_mode": {
    "name": "ipython",
    "version": 3
   }
  },
  "orig_nbformat": 2,
  "file_extension": ".py",
  "mimetype": "text/x-python",
  "name": "python",
  "npconvert_exporter": "python",
  "pygments_lexer": "ipython3",
  "version": 3
 },
 "cells": [
  {
   "cell_type": "code",
   "outputs": [],
   "source": [
    "import numpy as np\n",
    "\n",
    "np.set_printoptions(sign=' ')\n",
    "\n",
    "my_array = np.array(input().split(),float)\n",
    "print(np.floor(my_array))\n",
    "print(np.ceil(my_array))\n",
    "print(np.rint(my_array))"
   ],
   "metadata": {},
   "execution_count": null
  }
 ]
}
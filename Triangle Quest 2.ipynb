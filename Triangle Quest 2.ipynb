{
 "nbformat": 4,
 "nbformat_minor": 2,
 "metadata": {
  "language_info": {
   "name": "python",
   "codemirror_mode": {
    "name": "ipython",
    "version": 3
   },
   "version": "3.7.4-final"
  },
  "orig_nbformat": 2,
  "file_extension": ".py",
  "mimetype": "text/x-python",
  "name": "python",
  "npconvert_exporter": "python",
  "pygments_lexer": "ipython3",
  "version": 3,
  "kernelspec": {
   "name": "python37464bitbasecondae802c8b5a0d74528aa1d856311a88e21",
   "display_name": "Python 3.7.4 64-bit ('base': conda)"
  }
 },
 "cells": [
  {
   "cell_type": "code",
   "execution_count": 49,
   "metadata": {},
   "outputs": [
    {
     "name": "stdout",
     "output_type": "stream",
     "text": "[1010, 400]\n121\n"
    }
   ],
   "source": [
    "n=2\n",
    "l=[i*(10**(2*n-i)+10**(i)) for i in range(1,n+1)]\n",
    "print(l)\n",
    "print(int((sum(l)-n*(10**(n)))/10))"
   ]
  },
  {
   "cell_type": "code",
   "execution_count": 58,
   "metadata": {},
   "outputs": [
    {
     "name": "stdout",
     "output_type": "stream",
     "text": "1\n121\n12321\n1234321\n123454321\n"
    }
   ],
   "source": [
    "n=int(input('Please enter'))\n",
    "for j in range(1,n+1): #More than 2 lines will result in 0 score. Do not leave a blank line also\n",
    "    l=[i*(10**(2*j-i)+10**(i)) for i in range(1,j+1)]\n",
    "    print(int((sum(l)-j*(10**(j)))/10))\n"
   ]
  },
  {
   "cell_type": "code",
   "execution_count": 68,
   "metadata": {},
   "outputs": [
    {
     "name": "stdout",
     "output_type": "stream",
     "text": "[1, 121, 12321, 1234321, 123454321, 12345654321, 1234567654321, 123456787654321, 12345678987654320, 1234567900987654400]\n1\n121\n12321\n1234321\n123454321\n12345654321\n1234567654321\n123456787654321\n12345678987654320\n"
    }
   ],
   "source": [
    "n=int(input('Please enter'))\n",
    "powers=[int(((1-10**(i+1))/(1-10))**2) for i in range(0,n+1)]\n",
    "print(powers)\n",
    "for j in range(1,n+1): #More than 2 lines will result in 0 score. Do not leave a blank line also\n",
    "    print(powers[j-1])\n"
   ]
  },
  {
   "cell_type": "code",
   "execution_count": null,
   "metadata": {},
   "outputs": [],
   "source": []
  }
 ]
}
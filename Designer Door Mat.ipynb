{
 "nbformat": 4,
 "nbformat_minor": 2,
 "metadata": {
  "language_info": {
   "name": "python",
   "codemirror_mode": {
    "name": "ipython",
    "version": 3
   },
   "version": "3.7.4-final"
  },
  "orig_nbformat": 2,
  "file_extension": ".py",
  "mimetype": "text/x-python",
  "name": "python",
  "npconvert_exporter": "python",
  "pygments_lexer": "ipython3",
  "version": 3,
  "kernelspec": {
   "name": "python37464bitbasecondae802c8b5a0d74528aa1d856311a88e21",
   "display_name": "Python 3.7.4 64-bit ('base': conda)"
  }
 },
 "cells": [
  {
   "cell_type": "code",
   "execution_count": 4,
   "metadata": {},
   "outputs": [
    {
     "name": "stdout",
     "output_type": "stream",
     "text": "<class 'int'>\n27\n"
    }
   ],
   "source": [
    "# Enter your code here. Read input from STDIN. Print output to STDOUT\n",
    "\n",
    "N, M = map(int,input().split())\n",
    "\n",
    "for x in range(1,N,2):\n",
    "    print(('{:-^'+str(M)+'}').format(x*'.|.'))\n",
    "\n",
    "print(('{:-^'+str(M)+'}').format('WELCOME'))\n",
    "\n",
    "for x in reversed(range(1,N,2)):\n",
    "    print(('{:-^'+str(M)+'}').format(x*'.|.'))"
   ]
  }
 ]
}